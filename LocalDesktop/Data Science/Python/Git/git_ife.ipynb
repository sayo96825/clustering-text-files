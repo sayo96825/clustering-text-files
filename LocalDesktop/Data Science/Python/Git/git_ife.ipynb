{
 "cells": [
  {
   "cell_type": "markdown",
   "metadata": {},
   "source": [
    "- Check if git is installed and which version is installed"
   ]
  },
  {
   "cell_type": "markdown",
   "metadata": {},
   "source": [
    "in terminal\n",
    "\n",
    "\\> git --version"
   ]
  }
 ],
 "metadata": {
  "interpreter": {
   "hash": "55f77d983f4439cb9cc8496b6a0102f1ad9bacf23ee8ec6e555f8b1bbc613160"
  },
  "kernelspec": {
   "display_name": "Python 3.9.6 64-bit",
   "language": "python",
   "name": "python3"
  },
  "language_info": {
   "codemirror_mode": {
    "name": "ipython",
    "version": 3
   },
   "file_extension": ".py",
   "mimetype": "text/x-python",
   "name": "python",
   "nbconvert_exporter": "python",
   "pygments_lexer": "ipython3",
   "version": "3.9.6"
  },
  "orig_nbformat": 4
 },
 "nbformat": 4,
 "nbformat_minor": 2
}
